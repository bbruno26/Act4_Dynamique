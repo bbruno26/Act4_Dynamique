{
 "cells": [
  {
   "cell_type": "markdown",
   "metadata": {},
   "source": [
    "# Activité N°4 MODELISATION DE LA CHUTE DE MON TELEPHONE\n",
    "\n",
    "----------------------------------------------------------------------------------------------------\n",
    "\n",
    "Nous allons, à partir des données de la chute du téléphone, établir la valeur de la vitesse et de l'accélération du téléphone au cours de son mouvement.\n",
    "\n",
    "\n",
    " \n",
    " "
   ]
  },
  {
   "cell_type": "markdown",
   "metadata": {},
   "source": [
    "## I/ MISE EN FORME DES DONNEES\n",
    "\n",
    "Reprenons les valeurs du temps t associées aux valeurs des coordonnées du téléphone lors de sa chute.\n",
    "Nous nous limiterons à une dimension.\n",
    "Nous mettrons ses valeurs dans deux tableaux, l'un appelé temps et l'autre coordonnée."
   ]
  },
  {
   "cell_type": "code",
   "execution_count": null,
   "metadata": {},
   "outputs": [],
   "source": [
    "# Définition du tableau temps en seconde (s)\n",
    "temps = [0.7,0.733,0.767,0.800,0.833,0.867,0.900,0.933,0.967,1,1.033,1.067,1.1]\n",
    "# Définition du tableau coordonnée en mètre (m)\n",
    "coordonnée = [0.017,0.0552,0.105,0.16,0.236,0.318,0.405,0.503,0.603,0.710,0.815,0.914,1.011]\n"
   ]
  },
  {
   "cell_type": "markdown",
   "metadata": {},
   "source": [
    "Vérifions que les deux tableaux ont le même nombre d'éléments."
   ]
  },
  {
   "cell_type": "code",
   "execution_count": null,
   "metadata": {},
   "outputs": [],
   "source": [
    "# Je définis les deux tailles des tableaux.\n",
    "nombre_Valeurs_temps = len(temps)\n",
    "nombre_Valeurs_coordonnée = len(coordonnée)\n",
    "# Et je les compare\n",
    "if nombre_Valeurs_temps == nombre_Valeurs_coordonnée :\n",
    "    print('Les deux tableaux ont bien les mêmes nombres d\\' éléments !')\n",
    "    \n",
    "          "
   ]
  },
  {
   "cell_type": "markdown",
   "metadata": {},
   "source": [
    "Voilà le travail est fait et je vous montre comment afficher la courbe coordonnée en fonction du temps.\n",
    "Nous allons pour cela utiliser la  bibliothèque \"Matplotlib\".\n"
   ]
  },
  {
   "cell_type": "code",
   "execution_count": null,
   "metadata": {},
   "outputs": [],
   "source": [
    "# J'importe la bibliothèque nécessaire\n",
    "\n",
    "import matplotlib.pyplot as plt\n",
    "\n",
    "# Je définis les variables x et y\n",
    "\n",
    "x = temps\n",
    "y = coordonnée\n",
    "\n",
    "# Je configure les paramètres du graphe\n",
    "plt.plot(x, y,\"b:o\")\n",
    "plt.xlabel(\"temps (s)\")\n",
    "plt.ylabel(\"axe x (m)\")\n",
    "plt.title('La trajectoire de mon téléphone portable')\n",
    "\n",
    "#Affichage\n",
    "\n",
    "plt.show()"
   ]
  },
  {
   "cell_type": "markdown",
   "metadata": {},
   "source": [
    "## II/ CALCUL DE LA VITESSE \n",
    "\n",
    "Rappelons que la vitesse s'exprime ainsi  $$ v = \\frac {dx}{dt} = \\lim_{\\Delta t \\to 0}\\frac {x(t+\\Delta t) - x(t)}{\\Delta t}$$ .\n",
    "Simplifions en estimant que $\\Delta t$ est égale au temps entre deux images du mouvement, c'est à dire $$\\Delta t = 33 ms$$ et est très faible.\n",
    "Donc \n",
    "\n",
    "$$ v = \\frac {x(t+\\Delta t) - x(t)}{\\Delta t} $$\n",
    "\n",
    "Je peux donc en déduire un nouveau tableau que je vais appeler v, comme suit.\n",
    "\n",
    "\n"
   ]
  },
  {
   "cell_type": "code",
   "execution_count": null,
   "metadata": {},
   "outputs": [],
   "source": [
    "#Je définis le tableau vitesse.\n",
    "v=[]\n",
    "# je parcours le tableau coordonnée pour définir les éléments du tableau vitesse.\n",
    "for i in range(len(coordonnée)-1) :\n",
    "    vitesse = (coordonnée[i+1]-coordonnée[i])/0.033\n",
    "# 0.033 ms correspond au temps entre deux positions de la trajectoire de mon téléphone.\n",
    "    v.append(vitesse)\n",
    "print(v)\n",
    "print(len(v))\n",
    "    "
   ]
  },
  {
   "cell_type": "markdown",
   "metadata": {},
   "source": [
    "Traçons cette vitesse en fonction du temps."
   ]
  },
  {
   "cell_type": "code",
   "execution_count": null,
   "metadata": {},
   "outputs": [],
   "source": [
    "# Je définis les variables x et y\n",
    "\n",
    "x = temps[1:]\n",
    "\n",
    "y = v\n",
    "\n",
    "# Je configure les paramètres du graphe\n",
    "plt.plot(x, y,\"b:o\")\n",
    "plt.xlabel(\"temps (s)\")\n",
    "plt.ylabel(\"vitesse (m/s)\")\n",
    "plt.title('La vitesse de mon téléphone portable lors de sa chute')\n",
    "\n",
    "#Affichage\n",
    "\n",
    "plt.show()"
   ]
  },
  {
   "cell_type": "markdown",
   "metadata": {},
   "source": [
    "Décrivez cette courbe.\n",
    "A vous de jouer !!!\n",
    "\n",
    "\n",
    "............................................\n",
    "\n",
    "\n",
    "............................................\n",
    "\n",
    "\n",
    "\n",
    "\n",
    "\n",
    "\n",
    "\n",
    "............................................\n",
    "\n",
    "\n",
    "............................................\n",
    "\n",
    "\n",
    "Conclure .\n",
    "\n",
    "\n",
    "............................................"
   ]
  },
  {
   "cell_type": "markdown",
   "metadata": {},
   "source": [
    "## III/ CALCUL DE L'ACCELERATION \n",
    "\n",
    "Rappelons que l'accélération s'exprime ainsi  $$ a = \\frac {dv}{dt} = \\lim_{\\Delta t \\to 0}\\frac {v(t+\\Delta t) - v(t)}{\\Delta t}$$ .\n",
    "Simplifions en estimant que $\\Delta t$ est égale au temps entre deux images du mouvement, c'est à dire $$\\Delta t = 33 ms$$ et est très faible.\n",
    "Donc \n",
    "\n",
    "$$ a = \\frac {v(t+\\Delta t) - v(t)}{\\Delta t} $$\n",
    "\n",
    "Je peux donc en déduire un nouveau tableau que je vais appeler a, comme suit."
   ]
  },
  {
   "cell_type": "code",
   "execution_count": null,
   "metadata": {},
   "outputs": [],
   "source": [
    "#Je définis le tableau accélération.\n",
    "a=[]\n",
    "# je parcours le tableau coordonnée pour définir les éléments du tableau vitesse.\n",
    "for i in range(len(v)-1) :\n",
    "    acceleration = (v[i+1]-v[i])/0.033\n",
    "# 0.033 ms correspond au temps entre deux positions de la trajectoire de mon téléphone.\n",
    "    a.append(acceleration)\n",
    "print(a)\n",
    "print(len(a))"
   ]
  },
  {
   "cell_type": "markdown",
   "metadata": {},
   "source": [
    "Traçons cette accélération en fonction du temps."
   ]
  },
  {
   "cell_type": "code",
   "execution_count": null,
   "metadata": {},
   "outputs": [],
   "source": [
    "# Je définis les variables x et y\n",
    "\n",
    "x = temps[2:]\n",
    "\n",
    "y = a\n",
    "\n",
    "# Je configure les paramètres du graphe\n",
    "plt.plot(x, y,\"b:o\")\n",
    "plt.xlabel(\"temps (s)\")\n",
    "plt.ylabel(\"accélération (m/s)\")\n",
    "plt.title('L\\'accélération de mon téléphone portable lors de sa chute')\n",
    "\n",
    "#Affichage\n",
    "\n",
    "plt.show()"
   ]
  },
  {
   "cell_type": "markdown",
   "metadata": {},
   "source": [
    "Décrivez cette courbe.\n",
    "A vous de jouer !!!\n",
    "\n",
    "\n",
    "............................................\n",
    "\n",
    "\n",
    "............................................\n",
    "\n",
    "\n",
    "\n",
    "\n",
    "\n",
    "\n",
    "\n",
    "............................................\n",
    "\n",
    "\n",
    "............................................\n",
    "\n",
    "\n",
    "Conclure .\n",
    "\n",
    "\n",
    "............................................"
   ]
  },
  {
   "cell_type": "markdown",
   "metadata": {},
   "source": [
    "## VI/ MODELISATION DE LA CHUTE EN APPLIQUANT LE PRINCIPE FONDAMENTAL DE LA DYNAMIQUE A MON TELEPHONE PORTABLE\n",
    "\n",
    "\n",
    "Rappelons l'expression de la relation fondamentale de la dynamique  $$ \\sum \\vec{F}  = m * \\vec{a} = m *\\frac {dv}{dt} = m * \\lim_{\\Delta t \\to 0}\\frac {v(t+\\Delta t) - v(t)}{\\Delta t}$$ .\n",
    "\n",
    "\n",
    "Ce principe s'applique à notre système d'étude qui  est ici mon téléphone portable.\n",
    "\n",
    "\n",
    "Le repère considéré sera celui du laboratoire, considéré comme Galiléen le temps de l'expérience.\n",
    "\n",
    "\n",
    " $\\sum \\vec{F} $ est l'ensemble des forces qui s'appliquent sur notre système.\n",
    " \n",
    "\n",
    "m est la masse du système, $\\vec{a}$ le vecteur accélération de notre système.\n",
    " \n",
    " Faisons les hypothèses suivantes, nous négligeons les frottements de l'air et la poussée d'Archimède.\n",
    " \n",
    " Notre système est donc soumis qu'à son poids $\\vec{P} = m * \\vec{g}$.\n",
    " \n",
    " A ce moment nous obtenons $$ \\sum \\vec{F}  = m * \\vec{g} = m * \\vec{a}$$.\n",
    " \n",
    " Et  $$ \\vec{g} = \\vec{a}$$.\n",
    " \n",
    " Vous connaissez tout du vecteur  $$ \\vec{g} $$.\n",
    " \n",
    " Sa valeur sera de 9,81 m/s², le vecteur est vertical descendant.\n",
    " \n",
    " Ce sera de même pour le vecteur $$ \\vec{a} $$.\n",
    " \n",
    " \n",
    "Comme \n",
    "\n",
    "$$ a = \\frac {\\Delta v}{\\Delta t} $$\n",
    "\n",
    "Nous en déduisons,\n",
    "\n",
    "$$ v - v(t_{0}) = a * (t - t_{0}) $$\n",
    "\n",
    "Ou encore, si nous considérons la vitesse initiale  $v(t_{0}$ égale à 1,158 m/s,\n",
    "\n",
    "$$ v  = g * t - ( g*t_{0} ) + v(t_{0}) $$\n",
    "\n",
    "$ t_{0} $ est égale à 0.723 s et g à 9.81 m/s².\n",
    "\n",
    "Donc v = 9.81 * t - 9.81*0.723 + 1.158  = 9.81 * t - 5,93\n",
    "\n",
    "Et on obtiens le tableau de vitesse correspondant au tableau de temps donné :\n",
    "\n",
    "\n",
    "\n"
   ]
  },
  {
   "cell_type": "code",
   "execution_count": null,
   "metadata": {},
   "outputs": [],
   "source": [
    "vth = [(9.81*t-5.93) for t in temps[1:] ]\n",
    "print(vth)"
   ]
  },
  {
   "cell_type": "markdown",
   "metadata": {},
   "source": [
    "Affichons la courbe correspondante, "
   ]
  },
  {
   "cell_type": "code",
   "execution_count": null,
   "metadata": {},
   "outputs": [],
   "source": [
    "# Je définis les variables x et y\n",
    "\n",
    "x = temps[1:]\n",
    "\n",
    "y = vth\n",
    "\n",
    "# Je configure les paramètres du graphe\n",
    "plt.plot(x, y,\"b:o\")\n",
    "plt.xlabel(\"temps (s)\")\n",
    "plt.ylabel(\"vitesse (m/s)\")\n",
    "plt.title('La vitesse théorique de mon téléphone portable lors de sa chute')\n",
    "\n",
    "#Affichage\n",
    "\n",
    "plt.show()"
   ]
  },
  {
   "cell_type": "markdown",
   "metadata": {},
   "source": [
    "Décrivez cette courbe et la comparez à l'autre courbe .\n",
    "A vous de jouer !!!\n",
    "\n",
    "\n",
    "............................................\n",
    "\n",
    "\n",
    "............................................\n",
    "\n",
    "\n",
    "\n",
    "\n",
    "\n",
    "\n",
    "\n",
    "............................................\n",
    "\n",
    "\n",
    "............................................\n",
    "\n",
    "\n",
    "Conclure .\n",
    "\n",
    "\n",
    "............................................"
   ]
  },
  {
   "cell_type": "code",
   "execution_count": null,
   "metadata": {},
   "outputs": [],
   "source": []
  },
  {
   "cell_type": "code",
   "execution_count": null,
   "metadata": {},
   "outputs": [],
   "source": []
  }
 ],
 "metadata": {
  "kernelspec": {
   "display_name": "Python 3",
   "language": "python",
   "name": "python3"
  },
  "language_info": {
   "codemirror_mode": {
    "name": "ipython",
    "version": 3
   },
   "file_extension": ".py",
   "mimetype": "text/x-python",
   "name": "python",
   "nbconvert_exporter": "python",
   "pygments_lexer": "ipython3",
   "version": "3.7.6"
  }
 },
 "nbformat": 4,
 "nbformat_minor": 4
}
